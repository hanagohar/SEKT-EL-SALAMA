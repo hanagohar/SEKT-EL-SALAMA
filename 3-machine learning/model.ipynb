{
 "cells": [
  {
   "cell_type": "markdown",
   "id": "b20f0c90",
   "metadata": {},
   "source": [
    "# **🚗 Traffic Accident Prediction Model**"
   ]
  },
  {
   "cell_type": "markdown",
   "id": "b21681d8",
   "metadata": {},
   "source": [
    "# Objective:\n",
    "\n",
    "Build a machine learning model to predict `Accident_Report` with the highest possible accuracy using the traffic accident dataset. The pipeline includes preprocessing (normalization, encoding, feature engineering), model selection, hyperparameter tuning, and evaluation, tailored to maximize accuracy.\n"
   ]
  },
  {
   "cell_type": "markdown",
   "id": "b98c4f3a",
   "metadata": {},
   "source": [
    "### **📥 Import Required Libraries**"
   ]
  },
  {
   "cell_type": "code",
   "execution_count": 1,
   "id": "ef5ab8d2",
   "metadata": {},
   "outputs": [],
   "source": [
    "import pandas as pd\n",
    "import numpy as np\n",
    "import matplotlib.pyplot as plt\n",
    "import seaborn as sns\n",
    "from sklearn.model_selection import train_test_split, cross_val_score, GridSearchCV\n",
    "from sklearn.preprocessing import MinMaxScaler\n",
    "from sklearn.impute import SimpleImputer\n",
    "from sklearn.compose import ColumnTransformer\n",
    "from sklearn.pipeline import Pipeline\n",
    "from sklearn.ensemble import RandomForestClassifier, VotingClassifier\n",
    "from xgboost import XGBClassifier\n",
    "from sklearn.svm import SVC\n",
    "from sklearn.metrics import accuracy_score, f1_score, confusion_matrix, classification_report\n",
    "from imblearn.over_sampling import SMOTE\n",
    "from sklearn.feature_selection import RFE\n",
    "from category_encoders import TargetEncoder\n",
    "import warnings\n",
    "warnings.filterwarnings('ignore')\n",
    "\n",
    "plt.style.use('seaborn-v0_8-darkgrid')\n",
    "\n",
    "\n"
   ]
  },
  {
   "cell_type": "markdown",
   "id": "a6ce55d0",
   "metadata": {},
   "source": [
    "# **📊 Load and Inspect the Dataset**"
   ]
  },
  {
   "cell_type": "code",
   "execution_count": 2,
   "id": "c83d2fb6",
   "metadata": {},
   "outputs": [
    {
     "name": "stdout",
     "output_type": "stream",
     "text": [
      "Dataset Shape: 5000 rows × 16 columns\n",
      "\n",
      "Missing Values:\n",
      "Series([], dtype: int64)\n"
     ]
    }
   ],
   "source": [
    "# Load the dataset\n",
    "df = pd.read_csv(r'D:\\Desktop\\DS\\ds\\1-cleaning\\cleaned_traffic_data.csv')  # Replace with your actual file path\n",
    "print(f\"Dataset Shape: {df.shape[0]} rows × {df.shape[1]} columns\")\n",
    "print(\"\\nMissing Values:\")\n",
    "print(df.isnull().sum()[df.isnull().sum() > 0])"
   ]
  },
  {
   "cell_type": "markdown",
   "id": "3b505ecb",
   "metadata": {},
   "source": [
    "# **🧹 Preprocessing Pipeline**"
   ]
  },
  {
   "cell_type": "code",
   "execution_count": 3,
   "id": "4ebc4995",
   "metadata": {},
   "outputs": [],
   "source": [
    "# Apply advanced preprocessing with normalization, target encoding, power transformation, and new feature engineering.\n",
    "\n",
    "# %%\n",
    "# Define features and target\n",
    "from sklearn.preprocessing import PowerTransformer\n",
    "\n",
    "\n",
    "X = df.drop('Accident_Report', axis=1)\n",
    "y = df['Accident_Report'].astype(int)\n",
    "\n",
    "# Split numerical, categorical, and datetime columns\n",
    "numeric_cols = ['Traffic_Speed_kmh', 'Vehicle_Count', 'Road_Occupancy_%', 'Sentiment_Score',\n",
    "                'Ride_Sharing_Demand', 'Parking_Availability', 'Emission_Levels_g_km', \n",
    "                'Energy_Consumption_L_h']\n",
    "categorical_cols = ['Traffic_Light_State', 'Weather_Condition', 'Traffic_Condition']\n",
    "datetime_cols = ['Timestamp']\n",
    "\n",
    "# Feature engineering\n",
    "X['Timestamp'] = pd.to_datetime(X['Timestamp'], errors='coerce')\n",
    "X['Hour'] = X['Timestamp'].dt.hour\n",
    "X['DayOfWeek'] = X['Timestamp'].dt.dayofweek\n",
    "X['IsWeekend'] = X['DayOfWeek'].isin([5, 6]).astype(int)\n",
    "X['Month'] = X['Timestamp'].dt.month\n",
    "X['IsRushHour'] = X['Hour'].isin([7, 8, 9, 16, 17, 18]).astype(int)\n",
    "numeric_cols += ['Hour', 'DayOfWeek', 'IsWeekend', 'Month', 'IsRushHour']\n",
    "\n",
    "# Interaction terms\n",
    "X['Speed_Occupancy_Interaction'] = X['Traffic_Speed_kmh'] * X['Road_Occupancy_%']\n",
    "numeric_cols.append('Speed_Occupancy_Interaction')\n",
    "\n",
    "# Temporary target encoding for interaction term\n",
    "temp_encoder = TargetEncoder(smoothing=10)\n",
    "X['Weather_Condition_Encoded'] = temp_encoder.fit_transform(X['Weather_Condition'], y)\n",
    "X['Vehicle_Weather_Interaction'] = X['Vehicle_Count'] * X['Weather_Condition_Encoded']\n",
    "numeric_cols.append('Vehicle_Weather_Interaction')\n",
    "\n",
    "# Handle skewness with PowerTransformer\n",
    "skewed_cols = ['Emission_Levels_g_km', 'Energy_Consumption_L_h', 'Vehicle_Count', 'Ride_Sharing_Demand']\n",
    "pt = PowerTransformer(method='yeo-johnson')\n",
    "X[skewed_cols] = pt.fit_transform(X[skewed_cols])\n",
    "\n",
    "# Define preprocessing\n",
    "numeric_transformer = Pipeline(steps=[\n",
    "    ('imputer', SimpleImputer(strategy='median')),\n",
    "    ('scaler', MinMaxScaler())  # Normalization\n",
    "])\n",
    "\n",
    "categorical_transformer = Pipeline(steps=[\n",
    "    ('imputer', SimpleImputer(strategy='most_frequent')),\n",
    "    ('target_encoder', TargetEncoder(smoothing=10))  # Advanced target encoding\n",
    "])\n",
    "\n",
    "# Combine preprocessors\n",
    "preprocessor = ColumnTransformer(\n",
    "    transformers=[\n",
    "        ('num', numeric_transformer, numeric_cols),\n",
    "        ('cat', categorical_transformer, categorical_cols)\n",
    "    ])\n",
    "\n",
    "# Apply preprocessing\n",
    "X_preprocessed = preprocessor.fit_transform(X, y)\n",
    "\n",
    "# Reconstruct preprocessed DataFrame\n",
    "all_columns = numeric_cols + categorical_cols\n",
    "X_preprocessed = pd.DataFrame(X_preprocessed, columns=all_columns)"
   ]
  },
  {
   "cell_type": "markdown",
   "id": "058c8705",
   "metadata": {},
   "source": [
    "#  **⚖️ Handle Class Imbalance with SMOTE**"
   ]
  },
  {
   "cell_type": "code",
   "execution_count": 4,
   "id": "c2f4eb65",
   "metadata": {},
   "outputs": [
    {
     "name": "stdout",
     "output_type": "stream",
     "text": [
      "\n",
      "Class Distribution Before SMOTE:\n",
      "Accident_Report\n",
      "0    0.904\n",
      "1    0.096\n",
      "Name: proportion, dtype: float64\n",
      "\n",
      "Class Distribution After SMOTE:\n",
      "Accident_Report\n",
      "0    0.5\n",
      "1    0.5\n",
      "Name: proportion, dtype: float64\n"
     ]
    },
    {
     "name": "stderr",
     "output_type": "stream",
     "text": [
      "  File \"c:\\Users\\YB Store\\AppData\\Local\\Programs\\Python\\Python313\\Lib\\site-packages\\joblib\\externals\\loky\\backend\\context.py\", line 282, in _count_physical_cores\n",
      "    raise ValueError(f\"found {cpu_count_physical} physical cores < 1\")\n"
     ]
    }
   ],
   "source": [
    "# Check class distribution\n",
    "print(\"\\nClass Distribution Before SMOTE:\")\n",
    "print(y.value_counts(normalize=True))\n",
    "\n",
    "# Apply SMOTE\n",
    "smote = SMOTE(random_state=42)\n",
    "X_resampled, y_resampled = smote.fit_resample(X_preprocessed, y)\n",
    "\n",
    "print(\"\\nClass Distribution After SMOTE:\")\n",
    "print(pd.Series(y_resampled).value_counts(normalize=True))\n",
    "\n",
    "# Split data\n",
    "X_train, X_test, y_train, y_test = train_test_split(X_resampled, y_resampled, test_size=0.2, random_state=42)"
   ]
  },
  {
   "cell_type": "markdown",
   "id": "c1eba237",
   "metadata": {},
   "source": [
    "# **🤖 Model Selection and Ensemble**"
   ]
  },
  {
   "cell_type": "code",
   "execution_count": 5,
   "id": "2ad46a80",
   "metadata": {},
   "outputs": [
    {
     "name": "stdout",
     "output_type": "stream",
     "text": [
      "\n",
      "Cross-Validated Accuracy Scores:\n",
      "Random Forest: Mean Accuracy = 0.9663 ± 0.0022\n",
      "XGBoost: Mean Accuracy = 0.9664 ± 0.0042\n",
      "SVM: Mean Accuracy = 0.8536 ± 0.0043\n",
      "Voting Classifier: Mean Accuracy = 0.9645 ± 0.0017\n"
     ]
    }
   ],
   "source": [
    "# Define individual models\n",
    "rf = RandomForestClassifier(random_state=42)\n",
    "xgb = XGBClassifier(random_state=42, eval_metric='logloss')\n",
    "svm = SVC(random_state=42, probability=True)\n",
    "\n",
    "# Define voting classifier\n",
    "voting_clf = VotingClassifier(\n",
    "    estimators=[\n",
    "        ('rf', rf),\n",
    "        ('xgb', xgb),\n",
    "        ('svm', svm)\n",
    "    ],\n",
    "    voting='soft'  # Soft voting for probability-based ensemble\n",
    ")\n",
    "\n",
    "# Evaluate models\n",
    "models = {\n",
    "    'Random Forest': rf,\n",
    "    'XGBoost': xgb,\n",
    "    'SVM': svm,\n",
    "    'Voting Classifier': voting_clf\n",
    "}\n",
    "\n",
    "print(\"\\nCross-Validated Accuracy Scores:\")\n",
    "for name, model in models.items():\n",
    "    scores = cross_val_score(model, X_train, y_train, cv=5, scoring='accuracy')\n",
    "    print(f\"{name}: Mean Accuracy = {scores.mean():.4f} ± {scores.std():.4f}\")"
   ]
  },
  {
   "cell_type": "markdown",
   "id": "c93f0053",
   "metadata": {},
   "source": [
    "# **🔧 Hyperparameter Tuning for XGBoost**"
   ]
  },
  {
   "cell_type": "code",
   "execution_count": 6,
   "id": "45c9616b",
   "metadata": {},
   "outputs": [
    {
     "name": "stdout",
     "output_type": "stream",
     "text": [
      "\n",
      "Best XGBoost Parameters: {'learning_rate': 0.1, 'max_depth': 7, 'n_estimators': 200, 'subsample': 0.8}\n",
      "Best XGBoost Accuracy (CV): 0.9681966122496968\n",
      "\n",
      "Voting Classifier Test Accuracy: 0.9651548672566371\n",
      "              precision    recall  f1-score   support\n",
      "\n",
      "           0       0.95      0.98      0.97       915\n",
      "           1       0.98      0.95      0.96       893\n",
      "\n",
      "    accuracy                           0.97      1808\n",
      "   macro avg       0.97      0.96      0.97      1808\n",
      "weighted avg       0.97      0.97      0.97      1808\n",
      "\n"
     ]
    }
   ],
   "source": [
    "# 🔧 Hyperparameter Tuning for XGBoost\n",
    "\n",
    "# Define parameter grid\n",
    "param_grid = {\n",
    "    'n_estimators': [100, 200, 300],\n",
    "    'max_depth': [3, 5, 7],\n",
    "    'learning_rate': [0.01, 0.1],\n",
    "    'subsample': [0.8, 1.0]\n",
    "}\n",
    "\n",
    "# Perform grid search\n",
    "grid_search = GridSearchCV(xgb, param_grid, cv=5, scoring='accuracy', n_jobs=-1)\n",
    "grid_search.fit(X_train, y_train)\n",
    "\n",
    "# Get the best XGBoost model\n",
    "best_xgb = grid_search.best_estimator_\n",
    "\n",
    "# Rebuild the voting classifier with the tuned XGBoost\n",
    "voting_clf = VotingClassifier(\n",
    "    estimators=[\n",
    "        ('rf', rf),\n",
    "        ('xgb', best_xgb),\n",
    "        ('svm', svm)\n",
    "    ],\n",
    "    voting='soft'  # استخدمي 'soft' لو بتفضلي الاحتمالات\n",
    ")\n",
    "\n",
    "# Train the new ensemble\n",
    "voting_clf.fit(X_train, y_train)\n",
    "\n",
    "# Print best parameters and accuracy from grid search\n",
    "print(\"\\nBest XGBoost Parameters:\", grid_search.best_params_)\n",
    "print(\"Best XGBoost Accuracy (CV):\", grid_search.best_score_)\n",
    "\n",
    "# Evaluate voting classifier on test data\n",
    "y_pred = voting_clf.predict(X_test)\n",
    "print(\"\\nVoting Classifier Test Accuracy:\", accuracy_score(y_test, y_pred))\n",
    "print(classification_report(y_test, y_pred))\n"
   ]
  },
  {
   "cell_type": "markdown",
   "id": "22bcf8cd",
   "metadata": {},
   "source": [
    "# **📈 Train and Evaluate Final Model**"
   ]
  },
  {
   "cell_type": "code",
   "execution_count": 7,
   "id": "95d23578",
   "metadata": {},
   "outputs": [
    {
     "name": "stdout",
     "output_type": "stream",
     "text": [
      "\n",
      "Test Set Performance (Voting Classifier):\n",
      "Accuracy: 0.9652\n",
      "F1-Score: 0.9642\n",
      "\n",
      "Classification Report:\n",
      "              precision    recall  f1-score   support\n",
      "\n",
      "           0       0.95      0.98      0.97       915\n",
      "           1       0.98      0.95      0.96       893\n",
      "\n",
      "    accuracy                           0.97      1808\n",
      "   macro avg       0.97      0.96      0.97      1808\n",
      "weighted avg       0.97      0.97      0.97      1808\n",
      "\n"
     ]
    },
    {
     "data": {
      "image/png": "[encoded data removed]",
      "text/plain": [
       "<Figure size 600x400 with 2 Axes>"
      ]
     },
     "metadata": {},
     "output_type": "display_data"
    }
   ],
   "source": [
    "# Train voting classifier\n",
    "voting_clf.fit(X_train, y_train)\n",
    "\n",
    "# Predict on test set\n",
    "y_pred = voting_clf.predict(X_test)\n",
    "\n",
    "# Calculate metrics\n",
    "accuracy = accuracy_score(y_test, y_pred)\n",
    "f1 = f1_score(y_test, y_pred)\n",
    "cm = confusion_matrix(y_test, y_pred)\n",
    "\n",
    "# Print results\n",
    "print(\"\\nTest Set Performance (Voting Classifier):\")\n",
    "print(f\"Accuracy: {accuracy:.4f}\")\n",
    "print(f\"F1-Score: {f1:.4f}\")\n",
    "print(\"\\nClassification Report:\")\n",
    "print(classification_report(y_test, y_pred))\n",
    "\n",
    "# Plot confusion matrix\n",
    "plt.figure(figsize=(6, 4))\n",
    "sns.heatmap(cm, annot=True, fmt='d', cmap='Blues')\n",
    "plt.title('Confusion Matrix (Voting Classifier)')\n",
    "plt.xlabel('Predicted')\n",
    "plt.ylabel('Actual')\n",
    "plt.show()"
   ]
  },
  {
   "cell_type": "markdown",
   "id": "3fdbe518",
   "metadata": {},
   "source": [
    "# **💡 Feature Importance**"
   ]
  },
  {
   "cell_type": "code",
   "execution_count": 8,
   "id": "bc61167c",
   "metadata": {},
   "outputs": [
    {
     "data": {
      "image/png": "[encoded data removed]",
      "text/plain": [
       "<Figure size 800x600 with 1 Axes>"
      ]
     },
     "metadata": {},
     "output_type": "display_data"
    }
   ],
   "source": [
    "# Analyze feature importance for interpretability (using Random Forest as a proxy).\n",
    "\n",
    "# %%\n",
    "rf.fit(X_train, y_train)\n",
    "importance = pd.DataFrame({\n",
    "    'Feature': X_train.columns,\n",
    "    'Importance': rf.feature_importances_\n",
    "}).sort_values(by='Importance', ascending=False)\n",
    "\n",
    "\n",
    "# Plot\n",
    "plt.figure(figsize=(8, 6))\n",
    "sns.barplot(data=importance, x='Importance', y='Feature', palette='viridis')\n",
    "plt.title('Feature Importance (Random Forest)')\n",
    "plt.show()"
   ]
  },
  {
   "cell_type": "code",
   "execution_count": 10,
   "id": "48eea809",
   "metadata": {},
   "outputs": [
    {
     "name": "stdout",
     "output_type": "stream",
     "text": [
      "✔️ تم حفظ الموديل والمعالجات بنجاح.\n"
     ]
    }
   ],
   "source": [
    "import joblib\n",
    "\n",
    "# حفظ الموديل والمعالجات (الصحيح)\n",
    "joblib.dump(voting_clf, \"model.pkl\")\n",
    "joblib.dump(preprocessor, \"preprocessor.pkl\")\n",
    "\n",
    "print(\"✔️ تم حفظ الموديل والمعالجات بنجاح.\")\n",
    "\n"
   ]
  }
 ],
 "metadata": {
  "kernelspec": {
   "display_name": "Python 3",
   "language": "python",
   "name": "python3"
  },
  "language_info": {
   "codemirror_mode": {
    "name": "ipython",
    "version": 3
   },
   "file_extension": ".py",
   "mimetype": "text/x-python",
   "name": "python",
   "nbconvert_exporter": "python",
   "pygments_lexer": "ipython3",
   "version": "3.12.5"
  }
 },
 "nbformat": 4,
 "nbformat_minor": 5
}
